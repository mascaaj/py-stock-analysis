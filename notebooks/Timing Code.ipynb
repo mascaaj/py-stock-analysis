{
 "cells": [
  {
   "cell_type": "code",
   "execution_count": 25,
   "metadata": {},
   "outputs": [],
   "source": [
    "from time import time\n",
    "import numpy as np"
   ]
  },
  {
   "cell_type": "code",
   "execution_count": 43,
   "metadata": {},
   "outputs": [],
   "source": [
    "def manual_mean(arr):\n",
    "    \"\"\" Function to calculate the mean of an array manually\"\"\"\n",
    "    sum=0\n",
    "    for i in range(0,arr.shape[0]):\n",
    "        for j in range(0,arr.shape[1]):\n",
    "            sum = sum + arr[i,j]\n",
    "    return sum/arr.size\n",
    "    \n",
    "def numpy_mean(arr):\n",
    "    \"\"\" Function to compute the mean of an array using numpy builtin method\"\"\"\n",
    "    return arr.mean()\n",
    "\n",
    "def timer(func, *args):\n",
    "    \"\"\"calculate the time to execute the code / function\"\"\"\n",
    "    t0 = time()\n",
    "    result = func(*args)\n",
    "    t1 = time()\n",
    "    return result, t1-t0\n",
    "\n",
    "def test_run(rdim=100,cdim=100):\n",
    "    nd = np.random.random((rdim,cdim))\n",
    "    mmean, mtime = timer(manual_mean, nd)\n",
    "    nmean, ntime = timer(numpy_mean, nd)\n",
    "    \n",
    "    assert abs(nmean-mmean)<=10e-6, \"Results are not equal !\"\n",
    "    \n",
    "    speedup = mtime/ntime\n",
    "    \n",
    "    print(\"Manual Mean: {:.6f}, Manual Time: {:.3f}\".format(mmean, mtime))\n",
    "    print(\"Numpy Mean: {:.6f}, Numpy Time: {:.3f}\".format(nmean, ntime))\n",
    "    print(\"Speedup is {:.1f} times\".format(speedup))"
   ]
  },
  {
   "cell_type": "code",
   "execution_count": 46,
   "metadata": {},
   "outputs": [
    {
     "name": "stdout",
     "output_type": "stream",
     "text": [
      "Manual Mean: 0.499946, Manual Time: 22.052\n",
      "Numpy Mean: 0.499946, Numpy Time: 0.048\n",
      "Speedup is 463.6 times\n",
      "Manual Mean: 0.499978, Manual Time: 22.767\n",
      "Numpy Mean: 0.499978, Numpy Time: 0.048\n",
      "Speedup is 477.5 times\n",
      "Manual Mean: 0.499980, Manual Time: 22.249\n",
      "Numpy Mean: 0.499980, Numpy Time: 0.048\n",
      "Speedup is 463.7 times\n",
      "Manual Mean: 0.500016, Manual Time: 22.692\n",
      "Numpy Mean: 0.500016, Numpy Time: 0.048\n",
      "Speedup is 476.8 times\n",
      "Manual Mean: 0.499997, Manual Time: 22.387\n",
      "Numpy Mean: 0.499997, Numpy Time: 0.048\n",
      "Speedup is 469.4 times\n"
     ]
    }
   ],
   "source": [
    "if __name__ == \"__main__\":\n",
    "    for i in range(0,5):\n",
    "        rdim = 10000\n",
    "        cdim = 10000\n",
    "        test_run(rdim,cdim)"
   ]
  }
 ],
 "metadata": {
  "kernelspec": {
   "display_name": "Python 3",
   "language": "python",
   "name": "python3"
  },
  "language_info": {
   "codemirror_mode": {
    "name": "ipython",
    "version": 3
   },
   "file_extension": ".py",
   "mimetype": "text/x-python",
   "name": "python",
   "nbconvert_exporter": "python",
   "pygments_lexer": "ipython3",
   "version": "3.7.9"
  }
 },
 "nbformat": 4,
 "nbformat_minor": 4
}
