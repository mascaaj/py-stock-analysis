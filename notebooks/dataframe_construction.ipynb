{
 "cells": [
  {
   "cell_type": "code",
   "execution_count": 2,
   "metadata": {},
   "outputs": [],
   "source": [
    "import pandas as pd"
   ]
  },
  {
   "cell_type": "code",
   "execution_count": 32,
   "metadata": {},
   "outputs": [],
   "source": [
    "def read_file(filename):\n",
    "    df= pd.read_csv(filename, index_col=\"Date\",\n",
    "                    parse_dates=True,usecols=['Date','Adj Close'],\n",
    "                    na_values=['nan'])\n",
    "    return df\n",
    "def test_run(fp1,fp2):\n",
    "    #Define date range\n",
    "    start_date = '2010-01-22'\n",
    "    end_date = '2010-01-26'\n",
    "    dates =  pd.date_range(start_date,end_date)\n",
    "    print(\"date range:\", dates)\n",
    "    \n",
    "    #Create empty dataframe with dates index\n",
    "    df1 = pd.DataFrame(index=dates)\n",
    "    print(df1)\n",
    "    \n",
    "    #Read the csv data\n",
    "    dfDE = read_file(fp1)\n",
    "    print(dfDE.head())\n",
    "    dfCAT = read_file(fp2)\n",
    "    print(dfCAT.head())\n",
    "\n",
    "    #Join the two data frames using DataFrame.join()\n",
    "    df1 = df1.join(dfCAT, how=\"inner\")\n",
    "#     df1 = df1.dropna()\n",
    "    print(df1)"
   ]
  },
  {
   "cell_type": "code",
   "execution_count": 33,
   "metadata": {},
   "outputs": [
    {
     "name": "stdout",
     "output_type": "stream",
     "text": [
      "date range: DatetimeIndex(['2010-01-22', '2010-01-23', '2010-01-24', '2010-01-25',\n",
      "               '2010-01-26'],\n",
      "              dtype='datetime64[ns]', freq='D')\n",
      "Empty DataFrame\n",
      "Columns: []\n",
      "Index: [2010-01-22 00:00:00, 2010-01-23 00:00:00, 2010-01-24 00:00:00, 2010-01-25 00:00:00, 2010-01-26 00:00:00]\n",
      "            Adj Close\n",
      "Date                 \n",
      "2000-01-03  13.865579\n",
      "2000-01-04  13.845365\n",
      "2000-01-05  14.168754\n",
      "2000-01-06  14.896394\n",
      "2000-01-07  14.876184\n",
      "            Adj Close\n",
      "Date                 \n",
      "2000-01-03  11.685953\n",
      "2000-01-04  11.535748\n",
      "2000-01-05  11.806119\n",
      "2000-01-06  12.406937\n",
      "2000-01-07  12.812489\n",
      "            Adj Close\n",
      "2010-01-22  39.531322\n",
      "2010-01-25  40.179848\n",
      "2010-01-26  40.697235\n"
     ]
    }
   ],
   "source": [
    "if __name__ == \"__main__\":\n",
    "    file_path_1 = \"../data/raw/DE.csv\"\n",
    "    file_path_2 = \"../data/raw/CAT.csv\"\n",
    "    test_run(file_path_1,file_path_2)"
   ]
  }
 ],
 "metadata": {
  "kernelspec": {
   "display_name": "Python 3",
   "language": "python",
   "name": "python3"
  },
  "language_info": {
   "codemirror_mode": {
    "name": "ipython",
    "version": 3
   },
   "file_extension": ".py",
   "mimetype": "text/x-python",
   "name": "python",
   "nbconvert_exporter": "python",
   "pygments_lexer": "ipython3",
   "version": "3.7.9"
  }
 },
 "nbformat": 4,
 "nbformat_minor": 4
}
